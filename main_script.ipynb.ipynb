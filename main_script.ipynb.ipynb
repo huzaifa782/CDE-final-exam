{
 "cells": [
  {
   "cell_type": "code",
   "execution_count": null,
   "metadata": {},
   "outputs": [],
   "source": [
    "# pip install spotipy"
   ]
  },
  {
   "cell_type": "code",
   "execution_count": 47,
   "metadata": {},
   "outputs": [],
   "source": [
    "import spotipy\n",
    "from spotipy.oauth2 import SpotifyClientCredentials\n",
    "import pandas as pd"
   ]
  },
  {
   "cell_type": "code",
   "execution_count": 48,
   "metadata": {},
   "outputs": [],
   "source": [
    "client_credentials_manager = SpotifyClientCredentials(client_id='68871f1cd0514ade935b1d8c21c6624b', client_secret='c1a0fd7b575e4a67a471712b0f84df11')"
   ]
  },
  {
   "cell_type": "code",
   "execution_count": 49,
   "metadata": {},
   "outputs": [],
   "source": [
    "sp = spotipy.Spotify(client_credentials_manager = client_credentials_manager)"
   ]
  },
  {
   "cell_type": "code",
   "execution_count": 50,
   "metadata": {},
   "outputs": [
    {
     "data": {
      "text/plain": [
       "'4Z2X40gKKjiDzwcKD3K0NG'"
      ]
     },
     "execution_count": 50,
     "metadata": {},
     "output_type": "execute_result"
    }
   ],
   "source": [
    "playlist_link = 'https://open.spotify.com/playlist/4Z2X40gKKjiDzwcKD3K0NG'\n",
    "playlist_URI = playlist_link.split('/')[-1]\n",
    "playlist_URI"
   ]
  },
  {
   "cell_type": "code",
   "execution_count": 51,
   "metadata": {},
   "outputs": [
    {
     "data": {
      "text/plain": [
       "'4Z2X40gKKjiDzwcKD3K0NG'"
      ]
     },
     "execution_count": 51,
     "metadata": {},
     "output_type": "execute_result"
    }
   ],
   "source": [
    "playlist_URI2 = playlist_link.split(\"/\")[-1].split(\"?\")[0]\n",
    "playlist_URI2"
   ]
  },
  {
   "cell_type": "code",
   "execution_count": 52,
   "metadata": {},
   "outputs": [],
   "source": [
    "data = sp.playlist_tracks(playlist_URI)"
   ]
  },
  {
   "cell_type": "code",
   "execution_count": 53,
   "metadata": {},
   "outputs": [
    {
     "data": {
      "text/plain": [
       "'3I3kZyHUtEA9Y59rJkxtk6'"
      ]
     },
     "execution_count": 53,
     "metadata": {},
     "output_type": "execute_result"
    }
   ],
   "source": [
    "data['items'][0]['track']['album']['id']"
   ]
  },
  {
   "cell_type": "code",
   "execution_count": 54,
   "metadata": {},
   "outputs": [
    {
     "data": {
      "text/plain": [
       "'Sajni (From \"Laapataa Ladies\")'"
      ]
     },
     "execution_count": 54,
     "metadata": {},
     "output_type": "execute_result"
    }
   ],
   "source": [
    "data['items'][0]['track']['album']['name']"
   ]
  },
  {
   "cell_type": "code",
   "execution_count": 55,
   "metadata": {},
   "outputs": [
    {
     "data": {
      "text/plain": [
       "'2024-02-12'"
      ]
     },
     "execution_count": 55,
     "metadata": {},
     "output_type": "execute_result"
    }
   ],
   "source": [
    "data['items'][0]['track']['album']['release_date']"
   ]
  },
  {
   "cell_type": "code",
   "execution_count": 56,
   "metadata": {},
   "outputs": [
    {
     "data": {
      "text/plain": [
       "1"
      ]
     },
     "execution_count": 56,
     "metadata": {},
     "output_type": "execute_result"
    }
   ],
   "source": [
    "data['items'][0]['track']['album']['total_tracks']"
   ]
  },
  {
   "cell_type": "code",
   "execution_count": 57,
   "metadata": {},
   "outputs": [
    {
     "data": {
      "text/plain": [
       "'https://open.spotify.com/album/3I3kZyHUtEA9Y59rJkxtk6'"
      ]
     },
     "execution_count": 57,
     "metadata": {},
     "output_type": "execute_result"
    }
   ],
   "source": [
    "data['items'][0]['track']['album']['external_urls']['spotify']"
   ]
  },
  {
   "cell_type": "code",
   "execution_count": 58,
   "metadata": {},
   "outputs": [
    {
     "data": {
      "text/plain": [
       "[{'album_id': '3I3kZyHUtEA9Y59rJkxtk6',\n",
       "  'name': 'Sajni (From \"Laapataa Ladies\")',\n",
       "  'release_date': '2024-02-12',\n",
       "  'total_tracks': 1,\n",
       "  'url': 'https://open.spotify.com/album/3I3kZyHUtEA9Y59rJkxtk6'},\n",
       " {'album_id': '1pw0xzpe4O0OMohBwau50L',\n",
       "  'name': 'Bhediya (Original Motion Picture Soundtrack)',\n",
       "  'release_date': '2022-12-06',\n",
       "  'total_tracks': 5,\n",
       "  'url': 'https://open.spotify.com/album/1pw0xzpe4O0OMohBwau50L'},\n",
       " {'album_id': '381lOukp7nV59bJS13TkPe',\n",
       "  'name': 'Once Upon Ay Time In Mumbai Dobaara !',\n",
       "  'release_date': '2013-07-22',\n",
       "  'total_tracks': 5,\n",
       "  'url': 'https://open.spotify.com/album/381lOukp7nV59bJS13TkPe'},\n",
       " {'album_id': '0upenH0uUT36nBbVM5mQhW',\n",
       "  'name': 'Jo Tum Mere Ho',\n",
       "  'release_date': '2024-08-02',\n",
       "  'total_tracks': 1,\n",
       "  'url': 'https://open.spotify.com/album/0upenH0uUT36nBbVM5mQhW'},\n",
       " {'album_id': '2SarxpD48O1DOiDIccyZ0W',\n",
       "  'name': 'Husn',\n",
       "  'release_date': '2023-12-01',\n",
       "  'total_tracks': 1,\n",
       "  'url': 'https://open.spotify.com/album/2SarxpD48O1DOiDIccyZ0W'},\n",
       " {'album_id': '013jUXOfDFXnDMBetTdsiH',\n",
       "  'name': 'Lost;Found',\n",
       "  'release_date': '2024-05-25',\n",
       "  'total_tracks': 14,\n",
       "  'url': 'https://open.spotify.com/album/013jUXOfDFXnDMBetTdsiH'}]"
      ]
     },
     "execution_count": 58,
     "metadata": {},
     "output_type": "execute_result"
    }
   ],
   "source": [
    "album_list = []\n",
    "for row in data['items']:\n",
    "    album_id = row['track']['album']['id']\n",
    "    album_name = row['track']['album']['name']\n",
    "    album_release_date = row['track']['album']['release_date']\n",
    "    album_total_tracks = row['track']['album']['total_tracks']\n",
    "    album_url = row['track']['album']['external_urls']['spotify']\n",
    "    album_element = {'album_id':album_id,'name':album_name,'release_date':album_release_date,\n",
    "                        'total_tracks':album_total_tracks,'url':album_url}\n",
    "    album_list.append(album_element)\n",
    "    \n",
    "album_list"
   ]
  },
  {
   "cell_type": "code",
   "execution_count": 59,
   "metadata": {},
   "outputs": [
    {
     "data": {
      "text/plain": [
       "[{'artist_id': '3PpjqSKBer3obW6lDflOBx',\n",
       "  'artist_name': 'Ram Sampath',\n",
       "  'external_url': 'https://api.spotify.com/v1/artists/3PpjqSKBer3obW6lDflOBx'},\n",
       " {'artist_id': '4YRxDV8wJFPHPTeXepOstw',\n",
       "  'artist_name': 'Arijit Singh',\n",
       "  'external_url': 'https://api.spotify.com/v1/artists/4YRxDV8wJFPHPTeXepOstw'},\n",
       " {'artist_id': '7vCsTTACb2iT4fvBMnwp5w',\n",
       "  'artist_name': 'Prashant Pandey',\n",
       "  'external_url': 'https://api.spotify.com/v1/artists/7vCsTTACb2iT4fvBMnwp5w'},\n",
       " {'artist_id': '1mBydYMVBECdDmMfE2sEUO',\n",
       "  'artist_name': 'Sachin-Jigar',\n",
       "  'external_url': 'https://api.spotify.com/v1/artists/1mBydYMVBECdDmMfE2sEUO'},\n",
       " {'artist_id': '4YRxDV8wJFPHPTeXepOstw',\n",
       "  'artist_name': 'Arijit Singh',\n",
       "  'external_url': 'https://api.spotify.com/v1/artists/4YRxDV8wJFPHPTeXepOstw'},\n",
       " {'artist_id': '2fMqTqiTxUDlmcOEPaQSsx',\n",
       "  'artist_name': 'Amitabh Bhattacharya',\n",
       "  'external_url': 'https://api.spotify.com/v1/artists/2fMqTqiTxUDlmcOEPaQSsx'},\n",
       " {'artist_id': '1wRPtKGflJrBx9BmLsSwlU',\n",
       "  'artist_name': 'Pritam',\n",
       "  'external_url': 'https://api.spotify.com/v1/artists/1wRPtKGflJrBx9BmLsSwlU'},\n",
       " {'artist_id': '5diMmmNkRVfgUnXJrzXzjZ',\n",
       "  'artist_name': 'Javed Bashir',\n",
       "  'external_url': 'https://api.spotify.com/v1/artists/5diMmmNkRVfgUnXJrzXzjZ'},\n",
       " {'artist_id': '4gdMJYnopf2nEUcanAwstx',\n",
       "  'artist_name': 'Anuv Jain',\n",
       "  'external_url': 'https://api.spotify.com/v1/artists/4gdMJYnopf2nEUcanAwstx'},\n",
       " {'artist_id': '4gdMJYnopf2nEUcanAwstx',\n",
       "  'artist_name': 'Anuv Jain',\n",
       "  'external_url': 'https://api.spotify.com/v1/artists/4gdMJYnopf2nEUcanAwstx'},\n",
       " {'artist_id': '05etL4pzWd6TSv1x5WrlG3',\n",
       "  'artist_name': 'Faheem Abdullah',\n",
       "  'external_url': 'https://api.spotify.com/v1/artists/05etL4pzWd6TSv1x5WrlG3'},\n",
       " {'artist_id': '22UtphG4LcwxlhhV0aP4js',\n",
       "  'artist_name': 'Rauhan Malik',\n",
       "  'external_url': 'https://api.spotify.com/v1/artists/22UtphG4LcwxlhhV0aP4js'},\n",
       " {'artist_id': '6MPuzz9hPrs4TwxeHh4cEj',\n",
       "  'artist_name': 'Amir Ameer',\n",
       "  'external_url': 'https://api.spotify.com/v1/artists/6MPuzz9hPrs4TwxeHh4cEj'}]"
      ]
     },
     "execution_count": 59,
     "metadata": {},
     "output_type": "execute_result"
    }
   ],
   "source": [
    "artist_list = []\n",
    "for row in data['items']:\n",
    "    for key, value in row.items():\n",
    "        if key == \"track\":\n",
    "            for artist in value['artists']:\n",
    "                artist_dict = {'artist_id':artist['id'], 'artist_name':artist['name'], 'external_url': artist['href']}\n",
    "                artist_list.append(artist_dict)\n",
    "                \n",
    "artist_list"
   ]
  },
  {
   "cell_type": "code",
   "execution_count": 60,
   "metadata": {},
   "outputs": [
    {
     "data": {
      "text/plain": [
       "[{'song_id': '5zCnGtCl5Ac5zlFHXaZmhy',\n",
       "  'song_name': 'Sajni (From \"Laapataa Ladies\")',\n",
       "  'duration_ms': 170044,\n",
       "  'url': 'https://open.spotify.com/track/5zCnGtCl5Ac5zlFHXaZmhy',\n",
       "  'popularity': 78,\n",
       "  'song_added': '2024-12-17T12:28:50Z',\n",
       "  'album_id': '3I3kZyHUtEA9Y59rJkxtk6',\n",
       "  'artist_id': '3PpjqSKBer3obW6lDflOBx'},\n",
       " {'song_id': '1hA697u7e1jX2XM8sWA6Uy',\n",
       "  'song_name': 'Apna Bana Le',\n",
       "  'duration_ms': 261702,\n",
       "  'url': 'https://open.spotify.com/track/1hA697u7e1jX2XM8sWA6Uy',\n",
       "  'popularity': 73,\n",
       "  'song_added': '2024-12-17T12:28:53Z',\n",
       "  'album_id': '1pw0xzpe4O0OMohBwau50L',\n",
       "  'artist_id': '1mBydYMVBECdDmMfE2sEUO'},\n",
       " {'song_id': '2cPUB8EOT6AfJ8oxhyoNXL',\n",
       "  'song_name': 'Ye Tune Kya Kiya',\n",
       "  'duration_ms': 314239,\n",
       "  'url': 'https://open.spotify.com/track/2cPUB8EOT6AfJ8oxhyoNXL',\n",
       "  'popularity': 73,\n",
       "  'song_added': '2024-12-17T16:01:01Z',\n",
       "  'album_id': '381lOukp7nV59bJS13TkPe',\n",
       "  'artist_id': '1wRPtKGflJrBx9BmLsSwlU'},\n",
       " {'song_id': '0eCajpR75pDW0r64U6hP2x',\n",
       "  'song_name': 'Jo Tum Mere Ho',\n",
       "  'duration_ms': 251813,\n",
       "  'url': 'https://open.spotify.com/track/0eCajpR75pDW0r64U6hP2x',\n",
       "  'popularity': 83,\n",
       "  'song_added': '2024-12-17T16:01:02Z',\n",
       "  'album_id': '0upenH0uUT36nBbVM5mQhW',\n",
       "  'artist_id': '4gdMJYnopf2nEUcanAwstx'},\n",
       " {'song_id': '0TL0LFcwIBF5eX7arDIKxY',\n",
       "  'song_name': 'Husn',\n",
       "  'duration_ms': 217894,\n",
       "  'url': 'https://open.spotify.com/track/0TL0LFcwIBF5eX7arDIKxY',\n",
       "  'popularity': 77,\n",
       "  'song_added': '2024-12-17T16:01:03Z',\n",
       "  'album_id': '2SarxpD48O1DOiDIccyZ0W',\n",
       "  'artist_id': '4gdMJYnopf2nEUcanAwstx'},\n",
       " {'song_id': '1hlbywc8Jhl1FFqJxAMabE',\n",
       "  'song_name': 'Ishq',\n",
       "  'duration_ms': 224842,\n",
       "  'url': 'https://open.spotify.com/track/1hlbywc8Jhl1FFqJxAMabE',\n",
       "  'popularity': 73,\n",
       "  'song_added': '2024-12-17T16:01:07Z',\n",
       "  'album_id': '013jUXOfDFXnDMBetTdsiH',\n",
       "  'artist_id': '05etL4pzWd6TSv1x5WrlG3'}]"
      ]
     },
     "execution_count": 60,
     "metadata": {},
     "output_type": "execute_result"
    }
   ],
   "source": [
    "song_list = []\n",
    "for row in data['items']:\n",
    "    song_id = row['track']['id']\n",
    "    song_name = row['track']['name']\n",
    "    song_duration = row['track']['duration_ms']\n",
    "    song_url = row['track']['external_urls']['spotify']\n",
    "    song_popularity = row['track']['popularity']\n",
    "    song_added = row['added_at']\n",
    "    album_id = row['track']['album']['id']\n",
    "    artist_id = row['track']['album']['artists'][0]['id']\n",
    "    song_element = {'song_id':song_id,'song_name':song_name,'duration_ms':song_duration,'url':song_url,\n",
    "                    'popularity':song_popularity,'song_added':song_added,'album_id':album_id,\n",
    "                    'artist_id':artist_id}\n",
    "    song_list.append(song_element)\n",
    "    \n",
    "song_list"
   ]
  },
  {
   "cell_type": "code",
   "execution_count": 61,
   "metadata": {},
   "outputs": [
    {
     "data": {
      "text/html": [
       "<div>\n",
       "<style scoped>\n",
       "    .dataframe tbody tr th:only-of-type {\n",
       "        vertical-align: middle;\n",
       "    }\n",
       "\n",
       "    .dataframe tbody tr th {\n",
       "        vertical-align: top;\n",
       "    }\n",
       "\n",
       "    .dataframe thead th {\n",
       "        text-align: right;\n",
       "    }\n",
       "</style>\n",
       "<table border=\"1\" class=\"dataframe\">\n",
       "  <thead>\n",
       "    <tr style=\"text-align: right;\">\n",
       "      <th></th>\n",
       "      <th>album_id</th>\n",
       "      <th>name</th>\n",
       "      <th>release_date</th>\n",
       "      <th>total_tracks</th>\n",
       "      <th>url</th>\n",
       "    </tr>\n",
       "  </thead>\n",
       "  <tbody>\n",
       "    <tr>\n",
       "      <th>0</th>\n",
       "      <td>3I3kZyHUtEA9Y59rJkxtk6</td>\n",
       "      <td>Sajni (From \"Laapataa Ladies\")</td>\n",
       "      <td>2024-02-12</td>\n",
       "      <td>1</td>\n",
       "      <td>https://open.spotify.com/album/3I3kZyHUtEA9Y59...</td>\n",
       "    </tr>\n",
       "    <tr>\n",
       "      <th>1</th>\n",
       "      <td>1pw0xzpe4O0OMohBwau50L</td>\n",
       "      <td>Bhediya (Original Motion Picture Soundtrack)</td>\n",
       "      <td>2022-12-06</td>\n",
       "      <td>5</td>\n",
       "      <td>https://open.spotify.com/album/1pw0xzpe4O0OMoh...</td>\n",
       "    </tr>\n",
       "    <tr>\n",
       "      <th>2</th>\n",
       "      <td>381lOukp7nV59bJS13TkPe</td>\n",
       "      <td>Once Upon Ay Time In Mumbai Dobaara !</td>\n",
       "      <td>2013-07-22</td>\n",
       "      <td>5</td>\n",
       "      <td>https://open.spotify.com/album/381lOukp7nV59bJ...</td>\n",
       "    </tr>\n",
       "    <tr>\n",
       "      <th>3</th>\n",
       "      <td>0upenH0uUT36nBbVM5mQhW</td>\n",
       "      <td>Jo Tum Mere Ho</td>\n",
       "      <td>2024-08-02</td>\n",
       "      <td>1</td>\n",
       "      <td>https://open.spotify.com/album/0upenH0uUT36nBb...</td>\n",
       "    </tr>\n",
       "    <tr>\n",
       "      <th>4</th>\n",
       "      <td>2SarxpD48O1DOiDIccyZ0W</td>\n",
       "      <td>Husn</td>\n",
       "      <td>2023-12-01</td>\n",
       "      <td>1</td>\n",
       "      <td>https://open.spotify.com/album/2SarxpD48O1DOiD...</td>\n",
       "    </tr>\n",
       "  </tbody>\n",
       "</table>\n",
       "</div>"
      ],
      "text/plain": [
       "                 album_id                                          name  \\\n",
       "0  3I3kZyHUtEA9Y59rJkxtk6                Sajni (From \"Laapataa Ladies\")   \n",
       "1  1pw0xzpe4O0OMohBwau50L  Bhediya (Original Motion Picture Soundtrack)   \n",
       "2  381lOukp7nV59bJS13TkPe         Once Upon Ay Time In Mumbai Dobaara !   \n",
       "3  0upenH0uUT36nBbVM5mQhW                                Jo Tum Mere Ho   \n",
       "4  2SarxpD48O1DOiDIccyZ0W                                          Husn   \n",
       "\n",
       "  release_date  total_tracks  \\\n",
       "0   2024-02-12             1   \n",
       "1   2022-12-06             5   \n",
       "2   2013-07-22             5   \n",
       "3   2024-08-02             1   \n",
       "4   2023-12-01             1   \n",
       "\n",
       "                                                 url  \n",
       "0  https://open.spotify.com/album/3I3kZyHUtEA9Y59...  \n",
       "1  https://open.spotify.com/album/1pw0xzpe4O0OMoh...  \n",
       "2  https://open.spotify.com/album/381lOukp7nV59bJ...  \n",
       "3  https://open.spotify.com/album/0upenH0uUT36nBb...  \n",
       "4  https://open.spotify.com/album/2SarxpD48O1DOiD...  "
      ]
     },
     "execution_count": 61,
     "metadata": {},
     "output_type": "execute_result"
    }
   ],
   "source": [
    "album_df = pd.DataFrame.from_dict(album_list)\n",
    "album_df.head()"
   ]
  },
  {
   "cell_type": "code",
   "execution_count": 62,
   "metadata": {},
   "outputs": [],
   "source": [
    "album_df = album_df.drop_duplicates(subset=['album_id'])"
   ]
  },
  {
   "cell_type": "code",
   "execution_count": 63,
   "metadata": {},
   "outputs": [
    {
     "data": {
      "text/html": [
       "<div>\n",
       "<style scoped>\n",
       "    .dataframe tbody tr th:only-of-type {\n",
       "        vertical-align: middle;\n",
       "    }\n",
       "\n",
       "    .dataframe tbody tr th {\n",
       "        vertical-align: top;\n",
       "    }\n",
       "\n",
       "    .dataframe thead th {\n",
       "        text-align: right;\n",
       "    }\n",
       "</style>\n",
       "<table border=\"1\" class=\"dataframe\">\n",
       "  <thead>\n",
       "    <tr style=\"text-align: right;\">\n",
       "      <th></th>\n",
       "      <th>artist_id</th>\n",
       "      <th>artist_name</th>\n",
       "      <th>external_url</th>\n",
       "    </tr>\n",
       "  </thead>\n",
       "  <tbody>\n",
       "    <tr>\n",
       "      <th>0</th>\n",
       "      <td>3PpjqSKBer3obW6lDflOBx</td>\n",
       "      <td>Ram Sampath</td>\n",
       "      <td>https://api.spotify.com/v1/artists/3PpjqSKBer3...</td>\n",
       "    </tr>\n",
       "    <tr>\n",
       "      <th>1</th>\n",
       "      <td>4YRxDV8wJFPHPTeXepOstw</td>\n",
       "      <td>Arijit Singh</td>\n",
       "      <td>https://api.spotify.com/v1/artists/4YRxDV8wJFP...</td>\n",
       "    </tr>\n",
       "    <tr>\n",
       "      <th>2</th>\n",
       "      <td>7vCsTTACb2iT4fvBMnwp5w</td>\n",
       "      <td>Prashant Pandey</td>\n",
       "      <td>https://api.spotify.com/v1/artists/7vCsTTACb2i...</td>\n",
       "    </tr>\n",
       "    <tr>\n",
       "      <th>3</th>\n",
       "      <td>1mBydYMVBECdDmMfE2sEUO</td>\n",
       "      <td>Sachin-Jigar</td>\n",
       "      <td>https://api.spotify.com/v1/artists/1mBydYMVBEC...</td>\n",
       "    </tr>\n",
       "    <tr>\n",
       "      <th>4</th>\n",
       "      <td>4YRxDV8wJFPHPTeXepOstw</td>\n",
       "      <td>Arijit Singh</td>\n",
       "      <td>https://api.spotify.com/v1/artists/4YRxDV8wJFP...</td>\n",
       "    </tr>\n",
       "  </tbody>\n",
       "</table>\n",
       "</div>"
      ],
      "text/plain": [
       "                artist_id      artist_name  \\\n",
       "0  3PpjqSKBer3obW6lDflOBx      Ram Sampath   \n",
       "1  4YRxDV8wJFPHPTeXepOstw     Arijit Singh   \n",
       "2  7vCsTTACb2iT4fvBMnwp5w  Prashant Pandey   \n",
       "3  1mBydYMVBECdDmMfE2sEUO     Sachin-Jigar   \n",
       "4  4YRxDV8wJFPHPTeXepOstw     Arijit Singh   \n",
       "\n",
       "                                        external_url  \n",
       "0  https://api.spotify.com/v1/artists/3PpjqSKBer3...  \n",
       "1  https://api.spotify.com/v1/artists/4YRxDV8wJFP...  \n",
       "2  https://api.spotify.com/v1/artists/7vCsTTACb2i...  \n",
       "3  https://api.spotify.com/v1/artists/1mBydYMVBEC...  \n",
       "4  https://api.spotify.com/v1/artists/4YRxDV8wJFP...  "
      ]
     },
     "execution_count": 63,
     "metadata": {},
     "output_type": "execute_result"
    }
   ],
   "source": [
    "artist_df = pd.DataFrame.from_dict(artist_list)\n",
    "artist_df.head()"
   ]
  },
  {
   "cell_type": "code",
   "execution_count": 64,
   "metadata": {},
   "outputs": [],
   "source": [
    "artist_df = artist_df.drop_duplicates(subset=['artist_id'])"
   ]
  },
  {
   "cell_type": "code",
   "execution_count": 65,
   "metadata": {},
   "outputs": [
    {
     "data": {
      "text/html": [
       "<div>\n",
       "<style scoped>\n",
       "    .dataframe tbody tr th:only-of-type {\n",
       "        vertical-align: middle;\n",
       "    }\n",
       "\n",
       "    .dataframe tbody tr th {\n",
       "        vertical-align: top;\n",
       "    }\n",
       "\n",
       "    .dataframe thead th {\n",
       "        text-align: right;\n",
       "    }\n",
       "</style>\n",
       "<table border=\"1\" class=\"dataframe\">\n",
       "  <thead>\n",
       "    <tr style=\"text-align: right;\">\n",
       "      <th></th>\n",
       "      <th>song_id</th>\n",
       "      <th>song_name</th>\n",
       "      <th>duration_ms</th>\n",
       "      <th>url</th>\n",
       "      <th>popularity</th>\n",
       "      <th>song_added</th>\n",
       "      <th>album_id</th>\n",
       "      <th>artist_id</th>\n",
       "    </tr>\n",
       "  </thead>\n",
       "  <tbody>\n",
       "    <tr>\n",
       "      <th>0</th>\n",
       "      <td>5zCnGtCl5Ac5zlFHXaZmhy</td>\n",
       "      <td>Sajni (From \"Laapataa Ladies\")</td>\n",
       "      <td>170044</td>\n",
       "      <td>https://open.spotify.com/track/5zCnGtCl5Ac5zlF...</td>\n",
       "      <td>78</td>\n",
       "      <td>2024-12-17T12:28:50Z</td>\n",
       "      <td>3I3kZyHUtEA9Y59rJkxtk6</td>\n",
       "      <td>3PpjqSKBer3obW6lDflOBx</td>\n",
       "    </tr>\n",
       "    <tr>\n",
       "      <th>1</th>\n",
       "      <td>1hA697u7e1jX2XM8sWA6Uy</td>\n",
       "      <td>Apna Bana Le</td>\n",
       "      <td>261702</td>\n",
       "      <td>https://open.spotify.com/track/1hA697u7e1jX2XM...</td>\n",
       "      <td>73</td>\n",
       "      <td>2024-12-17T12:28:53Z</td>\n",
       "      <td>1pw0xzpe4O0OMohBwau50L</td>\n",
       "      <td>1mBydYMVBECdDmMfE2sEUO</td>\n",
       "    </tr>\n",
       "    <tr>\n",
       "      <th>2</th>\n",
       "      <td>2cPUB8EOT6AfJ8oxhyoNXL</td>\n",
       "      <td>Ye Tune Kya Kiya</td>\n",
       "      <td>314239</td>\n",
       "      <td>https://open.spotify.com/track/2cPUB8EOT6AfJ8o...</td>\n",
       "      <td>73</td>\n",
       "      <td>2024-12-17T16:01:01Z</td>\n",
       "      <td>381lOukp7nV59bJS13TkPe</td>\n",
       "      <td>1wRPtKGflJrBx9BmLsSwlU</td>\n",
       "    </tr>\n",
       "    <tr>\n",
       "      <th>3</th>\n",
       "      <td>0eCajpR75pDW0r64U6hP2x</td>\n",
       "      <td>Jo Tum Mere Ho</td>\n",
       "      <td>251813</td>\n",
       "      <td>https://open.spotify.com/track/0eCajpR75pDW0r6...</td>\n",
       "      <td>83</td>\n",
       "      <td>2024-12-17T16:01:02Z</td>\n",
       "      <td>0upenH0uUT36nBbVM5mQhW</td>\n",
       "      <td>4gdMJYnopf2nEUcanAwstx</td>\n",
       "    </tr>\n",
       "    <tr>\n",
       "      <th>4</th>\n",
       "      <td>0TL0LFcwIBF5eX7arDIKxY</td>\n",
       "      <td>Husn</td>\n",
       "      <td>217894</td>\n",
       "      <td>https://open.spotify.com/track/0TL0LFcwIBF5eX7...</td>\n",
       "      <td>77</td>\n",
       "      <td>2024-12-17T16:01:03Z</td>\n",
       "      <td>2SarxpD48O1DOiDIccyZ0W</td>\n",
       "      <td>4gdMJYnopf2nEUcanAwstx</td>\n",
       "    </tr>\n",
       "  </tbody>\n",
       "</table>\n",
       "</div>"
      ],
      "text/plain": [
       "                  song_id                       song_name  duration_ms  \\\n",
       "0  5zCnGtCl5Ac5zlFHXaZmhy  Sajni (From \"Laapataa Ladies\")       170044   \n",
       "1  1hA697u7e1jX2XM8sWA6Uy                    Apna Bana Le       261702   \n",
       "2  2cPUB8EOT6AfJ8oxhyoNXL                Ye Tune Kya Kiya       314239   \n",
       "3  0eCajpR75pDW0r64U6hP2x                  Jo Tum Mere Ho       251813   \n",
       "4  0TL0LFcwIBF5eX7arDIKxY                            Husn       217894   \n",
       "\n",
       "                                                 url  popularity  \\\n",
       "0  https://open.spotify.com/track/5zCnGtCl5Ac5zlF...          78   \n",
       "1  https://open.spotify.com/track/1hA697u7e1jX2XM...          73   \n",
       "2  https://open.spotify.com/track/2cPUB8EOT6AfJ8o...          73   \n",
       "3  https://open.spotify.com/track/0eCajpR75pDW0r6...          83   \n",
       "4  https://open.spotify.com/track/0TL0LFcwIBF5eX7...          77   \n",
       "\n",
       "             song_added                album_id               artist_id  \n",
       "0  2024-12-17T12:28:50Z  3I3kZyHUtEA9Y59rJkxtk6  3PpjqSKBer3obW6lDflOBx  \n",
       "1  2024-12-17T12:28:53Z  1pw0xzpe4O0OMohBwau50L  1mBydYMVBECdDmMfE2sEUO  \n",
       "2  2024-12-17T16:01:01Z  381lOukp7nV59bJS13TkPe  1wRPtKGflJrBx9BmLsSwlU  \n",
       "3  2024-12-17T16:01:02Z  0upenH0uUT36nBbVM5mQhW  4gdMJYnopf2nEUcanAwstx  \n",
       "4  2024-12-17T16:01:03Z  2SarxpD48O1DOiDIccyZ0W  4gdMJYnopf2nEUcanAwstx  "
      ]
     },
     "execution_count": 65,
     "metadata": {},
     "output_type": "execute_result"
    }
   ],
   "source": [
    "song_df = pd.DataFrame.from_dict(song_list)\n",
    "song_df.head()"
   ]
  },
  {
   "cell_type": "code",
   "execution_count": 66,
   "metadata": {},
   "outputs": [],
   "source": [
    "album_df['release_date'] = pd.to_datetime(album_df['release_date'])"
   ]
  },
  {
   "cell_type": "code",
   "execution_count": 67,
   "metadata": {},
   "outputs": [],
   "source": [
    "song_df['song_added'] =  pd.to_datetime(song_df['song_added'])"
   ]
  },
  {
   "cell_type": "code",
   "execution_count": null,
   "metadata": {},
   "outputs": [],
   "source": []
  }
 ],
 "metadata": {
  "kernelspec": {
   "display_name": "base",
   "language": "python",
   "name": "python3"
  },
  "language_info": {
   "codemirror_mode": {
    "name": "ipython",
    "version": 3
   },
   "file_extension": ".py",
   "mimetype": "text/x-python",
   "name": "python",
   "nbconvert_exporter": "python",
   "pygments_lexer": "ipython3",
   "version": "3.11.7"
  },
  "toc": {
   "base_numbering": 1,
   "nav_menu": {},
   "number_sections": true,
   "sideBar": true,
   "skip_h1_title": false,
   "title_cell": "Table of Contents",
   "title_sidebar": "Contents",
   "toc_cell": false,
   "toc_position": {},
   "toc_section_display": true,
   "toc_window_display": false
  },
  "varInspector": {
   "cols": {
    "lenName": 16,
    "lenType": 16,
    "lenVar": 40
   },
   "kernels_config": {
    "python": {
     "delete_cmd_postfix": "",
     "delete_cmd_prefix": "del ",
     "library": "var_list.py",
     "varRefreshCmd": "print(var_dic_list())"
    },
    "r": {
     "delete_cmd_postfix": ") ",
     "delete_cmd_prefix": "rm(",
     "library": "var_list.r",
     "varRefreshCmd": "cat(var_dic_list()) "
    }
   },
   "types_to_exclude": [
    "module",
    "function",
    "builtin_function_or_method",
    "instance",
    "_Feature"
   ],
   "window_display": false
  }
 },
 "nbformat": 4,
 "nbformat_minor": 4
}
